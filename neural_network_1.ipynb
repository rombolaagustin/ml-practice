{
  "nbformat": 4,
  "nbformat_minor": 0,
  "metadata": {
    "colab": {
      "provenance": [],
      "authorship_tag": "ABX9TyOgahEaBewCUg+sXJCIE//k",
      "include_colab_link": true
    },
    "kernelspec": {
      "name": "python3",
      "display_name": "Python 3"
    },
    "language_info": {
      "name": "python"
    }
  },
  "cells": [
    {
      "cell_type": "markdown",
      "metadata": {
        "id": "view-in-github",
        "colab_type": "text"
      },
      "source": [
        "<a href=\"https://colab.research.google.com/github/rombolaagustin/ml-practice/blob/main/neural_network_1.ipynb\" target=\"_parent\"><img src=\"https://colab.research.google.com/assets/colab-badge.svg\" alt=\"Open In Colab\"/></a>"
      ]
    },
    {
      "cell_type": "code",
      "source": [
        "import tensorflow as tf\n",
        "import numpy as np\n",
        "import matplotlib.pyplot as plt"
      ],
      "metadata": {
        "id": "fRsaEUGM9fUb"
      },
      "execution_count": null,
      "outputs": []
    },
    {
      "cell_type": "code",
      "execution_count": null,
      "metadata": {
        "colab": {
          "base_uri": "https://localhost:8080/",
          "height": 630
        },
        "id": "t-1kW11F9ZMV",
        "outputId": "96992251-c182-4c85-9d3f-8ee5fcfc962e"
      },
      "outputs": [
        {
          "output_type": "stream",
          "name": "stdout",
          "text": [
            "Celsius: [-40. -10.   0.   8.  15.  22.  38.]\n",
            "Farenheit: [-40.   14.   32.   46.4  59.   71.6 100.4]\n",
            "Training...\n",
            "Modelo entrenado\n",
            "Predicting...\n",
            "1/1 [==============================] - 0s 88ms/step\n",
            "Result [ 0 10 40] ºC --> [[ 31.976072]\n",
            " [ 49.978104]\n",
            " [103.98419 ]] ºF\n",
            "Print weights\n",
            "[array([[1.8002028]], dtype=float32), array([31.976072], dtype=float32)]\n",
            "Training new complex model...\n"
          ]
        },
        {
          "output_type": "display_data",
          "data": {
            "text/plain": [
              "<Figure size 432x288 with 1 Axes>"
            ],
            "image/png": "[encoded data removed]"
          },
          "metadata": {
            "needs_background": "light"
          }
        },
        {
          "output_type": "stream",
          "name": "stdout",
          "text": [
            "New weights --> l1 [array([[0.36045885, 0.17500457, 0.50699246]], dtype=float32), array([3.5864136, 1.4217646, 3.6144426], dtype=float32)] l2: [array([[-0.28441054, -1.1459805 ,  0.37675256],\n",
            "       [ 0.37828615, -0.26562545, -0.3443907 ],\n",
            "       [-0.00137438, -0.99568075, -0.8796079 ]], dtype=float32), array([-3.1542728, -3.5811002, -3.5181818], dtype=float32)] output: [array([[-1.6683786],\n",
            "       [-1.4066552],\n",
            "       [-1.0304928]], dtype=float32), array([3.4986348], dtype=float32)]\n",
            "1/1 [==============================] - 0s 59ms/step\n",
            "Result [ 0 10 40] ºC --> [[ 32.     ]\n",
            " [ 50.     ]\n",
            " [104.00001]] ºF\n"
          ]
        }
      ],
      "source": [
        "\n",
        "### Se intenta genera una red neuronal que transforme de celsius a farenheit\n",
        "\n",
        "celsius = np.array([-40, -10, 0, 8, 15 ,22, 38], dtype=float)\n",
        "farenheit = celsius*(9/5) + 32\n",
        "\n",
        "print(f\"Celsius: {celsius}\")\n",
        "print(f\"Farenheit: {farenheit}\")\n",
        "\n",
        "# Se crea una capa y con una sola neurona\n",
        "\n",
        "layer = tf.keras.layers.Dense(units=1, input_shape=[1]) # Una capa y una neurona por capa\n",
        "model = tf.keras.Sequential([layer])\n",
        "\n",
        "# Compila el modelo utilizando el optimizador de adams\n",
        "# La función de perdida es mean_squared_error\n",
        "\n",
        "model.compile(\n",
        "    optimizer=tf.keras.optimizers.Adam(0.1), #Tasa de aprendizaje \n",
        "    loss='mean_squared_error' # Error function\n",
        ")\n",
        "\n",
        "print('Training...')\n",
        "historial = model.fit(celsius, farenheit, epochs=1000, verbose=False)\n",
        "\n",
        "print(\"Modelo entrenado\")\n",
        "\n",
        "# plt.plot(historial.history['loss'])\n",
        "# plt.show()\n",
        "\n",
        "print('Predicting...')\n",
        "\n",
        "#result = model.predict(np.linspace(start=-50, stop=50, num=101, endpoint=True))\n",
        "data = np.array([0, 10, 40])\n",
        "result = model.predict(data)\n",
        "print(f\"Result {data} ºC --> {result.reshape(-1, 1)} ºF\")\n",
        "\n",
        "print('Print weights')\n",
        "print(layer.get_weights())\n",
        "\n",
        "#### AHORA AGREGANDO MAS CAPAS AL MODELO ....\n",
        "\n",
        "layer_1 = tf.keras.layers.Dense(units=3, input_shape=[1])\n",
        "layer_2 = tf.keras.layers.Dense(units=3)\n",
        "output = tf.keras.layers.Dense(units=1)\n",
        "\n",
        "print('Training new complex model...')\n",
        "complex_model = tf.keras.Sequential([layer_1, layer_2, output])\n",
        "complex_model.compile(\n",
        "    optimizer=tf.keras.optimizers.Adam(0.1), #Tasa de aprendizaje \n",
        "    loss='mean_squared_error' # Error function\n",
        ")\n",
        "complex_hist = complex_model.fit(celsius, farenheit, epochs=1000, verbose=False)\n",
        "\n",
        "plt.plot(historial.history['loss'], label='simple')\n",
        "plt.plot(complex_hist.history['loss'], label='Complex')\n",
        "plt.legend()\n",
        "plt.show()\n",
        "\n",
        "print(f\"New weights --> l1 {layer_1.get_weights()} l2: {layer_2.get_weights()} output: {output.get_weights()}\")\n",
        "# En este caso los pesos no tienen tanto sentido como en el modelo lineal...\n",
        "data = np.array([0, 10, 40])\n",
        "result = complex_model.predict(data)\n",
        "print(f\"Result {data} ºC --> {result.reshape(-1, 1)} ºF\")"
      ]
    }
  ]
}